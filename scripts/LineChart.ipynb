{
 "cells": [
  {
   "cell_type": "code",
   "execution_count": 12,
   "id": "7da7b203",
   "metadata": {
    "scrolled": true
   },
   "outputs": [],
   "source": [
    "import os\n",
    "import numpy as np\n",
    "import pandas as pd\n",
    "filename = \"../Rabia.csv\"\n",
    "rabia_data = pd.read_csv(filename,header=0,index_col=None)\n",
    "rabia_data\n",
    "x_r = (rabia_data[rabia_data.columns[0]]/1000).tolist()\n",
    "y_r_m = rabia_data[rabia_data.columns[1]].tolist()\n",
    "y_r_99 = rabia_data[rabia_data.columns[2]].tolist()"
   ]
  },
  {
   "cell_type": "code",
   "execution_count": 13,
   "id": "bc7c7f96",
   "metadata": {},
   "outputs": [
    {
     "data": {
      "text/html": [
       "<div>\n",
       "<style scoped>\n",
       "    .dataframe tbody tr th:only-of-type {\n",
       "        vertical-align: middle;\n",
       "    }\n",
       "\n",
       "    .dataframe tbody tr th {\n",
       "        vertical-align: top;\n",
       "    }\n",
       "\n",
       "    .dataframe thead th {\n",
       "        text-align: right;\n",
       "    }\n",
       "</style>\n",
       "<table border=\"1\" class=\"dataframe\">\n",
       "  <thead>\n",
       "    <tr style=\"text-align: right;\">\n",
       "      <th></th>\n",
       "      <th>Throughput</th>\n",
       "      <th>p50</th>\n",
       "      <th>p99</th>\n",
       "    </tr>\n",
       "  </thead>\n",
       "  <tbody>\n",
       "    <tr>\n",
       "      <th>0</th>\n",
       "      <td>208095.83</td>\n",
       "      <td>0.81</td>\n",
       "      <td>4.50</td>\n",
       "    </tr>\n",
       "    <tr>\n",
       "      <th>1</th>\n",
       "      <td>310538.19</td>\n",
       "      <td>1.09</td>\n",
       "      <td>4.78</td>\n",
       "    </tr>\n",
       "    <tr>\n",
       "      <th>2</th>\n",
       "      <td>411432.64</td>\n",
       "      <td>1.25</td>\n",
       "      <td>5.44</td>\n",
       "    </tr>\n",
       "    <tr>\n",
       "      <th>3</th>\n",
       "      <td>450854.86</td>\n",
       "      <td>1.48</td>\n",
       "      <td>5.06</td>\n",
       "    </tr>\n",
       "    <tr>\n",
       "      <th>4</th>\n",
       "      <td>492538.19</td>\n",
       "      <td>1.65</td>\n",
       "      <td>10.00</td>\n",
       "    </tr>\n",
       "    <tr>\n",
       "      <th>5</th>\n",
       "      <td>512429.17</td>\n",
       "      <td>3.25</td>\n",
       "      <td>11.65</td>\n",
       "    </tr>\n",
       "    <tr>\n",
       "      <th>6</th>\n",
       "      <td>505620.14</td>\n",
       "      <td>4.85</td>\n",
       "      <td>18.05</td>\n",
       "    </tr>\n",
       "    <tr>\n",
       "      <th>7</th>\n",
       "      <td>523031.25</td>\n",
       "      <td>6.60</td>\n",
       "      <td>19.40</td>\n",
       "    </tr>\n",
       "    <tr>\n",
       "      <th>8</th>\n",
       "      <td>511388.89</td>\n",
       "      <td>8.49</td>\n",
       "      <td>22.82</td>\n",
       "    </tr>\n",
       "  </tbody>\n",
       "</table>\n",
       "</div>"
      ],
      "text/plain": [
       "   Throughput   p50    p99\n",
       "0   208095.83  0.81   4.50\n",
       "1   310538.19  1.09   4.78\n",
       "2   411432.64  1.25   5.44\n",
       "3   450854.86  1.48   5.06\n",
       "4   492538.19  1.65  10.00\n",
       "5   512429.17  3.25  11.65\n",
       "6   505620.14  4.85  18.05\n",
       "7   523031.25  6.60  19.40\n",
       "8   511388.89  8.49  22.82"
      ]
     },
     "execution_count": 13,
     "metadata": {},
     "output_type": "execute_result"
    }
   ],
   "source": [
    "rabia_data"
   ]
  },
  {
   "cell_type": "code",
   "execution_count": 14,
   "id": "3caf099d",
   "metadata": {},
   "outputs": [
    {
     "data": {
      "text/plain": [
       "([208.09582999999998,\n",
       "  310.53819,\n",
       "  411.43264,\n",
       "  450.85486,\n",
       "  492.53819,\n",
       "  512.42917,\n",
       "  505.62014,\n",
       "  523.03125,\n",
       "  511.38889],\n",
       " [0.81, 1.09, 1.25, 1.48, 1.65, 3.25, 4.85, 6.6, 8.49],\n",
       " [4.5, 4.78, 5.44, 5.06, 10.0, 11.65, 18.05, 19.4, 22.82])"
      ]
     },
     "execution_count": 14,
     "metadata": {},
     "output_type": "execute_result"
    }
   ],
   "source": [
    "x_r,y_r_m,y_r_99"
   ]
  },
  {
   "cell_type": "code",
   "execution_count": 15,
   "id": "5a69a590",
   "metadata": {},
   "outputs": [
    {
     "data": {
      "text/html": [
       "<div>\n",
       "<style scoped>\n",
       "    .dataframe tbody tr th:only-of-type {\n",
       "        vertical-align: middle;\n",
       "    }\n",
       "\n",
       "    .dataframe tbody tr th {\n",
       "        vertical-align: top;\n",
       "    }\n",
       "\n",
       "    .dataframe thead th {\n",
       "        text-align: right;\n",
       "    }\n",
       "</style>\n",
       "<table border=\"1\" class=\"dataframe\">\n",
       "  <thead>\n",
       "    <tr style=\"text-align: right;\">\n",
       "      <th></th>\n",
       "      <th>Throughput</th>\n",
       "      <th>p50</th>\n",
       "      <th>p99</th>\n",
       "    </tr>\n",
       "  </thead>\n",
       "  <tbody>\n",
       "    <tr>\n",
       "      <th>0</th>\n",
       "      <td>39243.52</td>\n",
       "      <td>5.10</td>\n",
       "      <td>5.94</td>\n",
       "    </tr>\n",
       "    <tr>\n",
       "      <th>1</th>\n",
       "      <td>78623.34</td>\n",
       "      <td>5.07</td>\n",
       "      <td>6.48</td>\n",
       "    </tr>\n",
       "    <tr>\n",
       "      <th>2</th>\n",
       "      <td>116666.37</td>\n",
       "      <td>5.08</td>\n",
       "      <td>6.99</td>\n",
       "    </tr>\n",
       "    <tr>\n",
       "      <th>3</th>\n",
       "      <td>156520.88</td>\n",
       "      <td>5.07</td>\n",
       "      <td>6.52</td>\n",
       "    </tr>\n",
       "    <tr>\n",
       "      <th>4</th>\n",
       "      <td>195051.92</td>\n",
       "      <td>5.07</td>\n",
       "      <td>6.43</td>\n",
       "    </tr>\n",
       "    <tr>\n",
       "      <th>5</th>\n",
       "      <td>245004.87</td>\n",
       "      <td>8.01</td>\n",
       "      <td>11.24</td>\n",
       "    </tr>\n",
       "    <tr>\n",
       "      <th>6</th>\n",
       "      <td>226251.20</td>\n",
       "      <td>13.09</td>\n",
       "      <td>18.14</td>\n",
       "    </tr>\n",
       "    <tr>\n",
       "      <th>7</th>\n",
       "      <td>218329.45</td>\n",
       "      <td>17.80</td>\n",
       "      <td>26.48</td>\n",
       "    </tr>\n",
       "    <tr>\n",
       "      <th>8</th>\n",
       "      <td>232866.04</td>\n",
       "      <td>21.10</td>\n",
       "      <td>27.28</td>\n",
       "    </tr>\n",
       "  </tbody>\n",
       "</table>\n",
       "</div>"
      ],
      "text/plain": [
       "   Throughput    p50    p99\n",
       "0    39243.52   5.10   5.94\n",
       "1    78623.34   5.07   6.48\n",
       "2   116666.37   5.08   6.99\n",
       "3   156520.88   5.07   6.52\n",
       "4   195051.92   5.07   6.43\n",
       "5   245004.87   8.01  11.24\n",
       "6   226251.20  13.09  18.14\n",
       "7   218329.45  17.80  26.48\n",
       "8   232866.04  21.10  27.28"
      ]
     },
     "execution_count": 15,
     "metadata": {},
     "output_type": "execute_result"
    }
   ],
   "source": [
    "filename = \"../Paxos.csv\"\n",
    "paxos_data = pd.read_csv(filename,header=0,index_col=None)\n",
    "x_p = (paxos_data[paxos_data.columns[0]]/1000).tolist()\n",
    "y_p_m = paxos_data[paxos_data.columns[1]].tolist()\n",
    "y_p_99 = paxos_data[paxos_data.columns[2]].tolist()\n",
    "paxos_data"
   ]
  },
  {
   "cell_type": "code",
   "execution_count": 16,
   "id": "960d1cf7",
   "metadata": {},
   "outputs": [
    {
     "data": {
      "text/plain": [
       "([39.24352,\n",
       "  78.62334,\n",
       "  116.66637,\n",
       "  156.52088,\n",
       "  195.05192000000002,\n",
       "  245.00486999999998,\n",
       "  226.2512,\n",
       "  218.32945,\n",
       "  232.86604],\n",
       " [5.1, 5.07, 5.08, 5.07, 5.07, 8.01, 13.09, 17.8, 21.1],\n",
       " [5.94, 6.48, 6.99, 6.52, 6.43, 11.24, 18.14, 26.48, 27.28])"
      ]
     },
     "execution_count": 16,
     "metadata": {},
     "output_type": "execute_result"
    }
   ],
   "source": [
    "x_p, y_p_m, y_p_99"
   ]
  },
  {
   "cell_type": "code",
   "execution_count": 17,
   "id": "f37a7841",
   "metadata": {},
   "outputs": [
    {
     "data": {
      "text/html": [
       "<div>\n",
       "<style scoped>\n",
       "    .dataframe tbody tr th:only-of-type {\n",
       "        vertical-align: middle;\n",
       "    }\n",
       "\n",
       "    .dataframe tbody tr th {\n",
       "        vertical-align: top;\n",
       "    }\n",
       "\n",
       "    .dataframe thead th {\n",
       "        text-align: right;\n",
       "    }\n",
       "</style>\n",
       "<table border=\"1\" class=\"dataframe\">\n",
       "  <thead>\n",
       "    <tr style=\"text-align: right;\">\n",
       "      <th></th>\n",
       "      <th>Throughput</th>\n",
       "      <th>p50</th>\n",
       "      <th>p99</th>\n",
       "    </tr>\n",
       "  </thead>\n",
       "  <tbody>\n",
       "    <tr>\n",
       "      <th>0</th>\n",
       "      <td>39221.49</td>\n",
       "      <td>5.09</td>\n",
       "      <td>5.82</td>\n",
       "    </tr>\n",
       "    <tr>\n",
       "      <th>1</th>\n",
       "      <td>78429.47</td>\n",
       "      <td>5.08</td>\n",
       "      <td>6.06</td>\n",
       "    </tr>\n",
       "    <tr>\n",
       "      <th>2</th>\n",
       "      <td>117700.88</td>\n",
       "      <td>5.07</td>\n",
       "      <td>6.58</td>\n",
       "    </tr>\n",
       "    <tr>\n",
       "      <th>3</th>\n",
       "      <td>156527.89</td>\n",
       "      <td>5.08</td>\n",
       "      <td>6.89</td>\n",
       "    </tr>\n",
       "    <tr>\n",
       "      <th>4</th>\n",
       "      <td>195044.83</td>\n",
       "      <td>5.09</td>\n",
       "      <td>7.03</td>\n",
       "    </tr>\n",
       "    <tr>\n",
       "      <th>5</th>\n",
       "      <td>343117.06</td>\n",
       "      <td>5.76</td>\n",
       "      <td>8.19</td>\n",
       "    </tr>\n",
       "    <tr>\n",
       "      <th>6</th>\n",
       "      <td>421932.39</td>\n",
       "      <td>6.99</td>\n",
       "      <td>9.97</td>\n",
       "    </tr>\n",
       "    <tr>\n",
       "      <th>7</th>\n",
       "      <td>419739.19</td>\n",
       "      <td>9.40</td>\n",
       "      <td>12.81</td>\n",
       "    </tr>\n",
       "    <tr>\n",
       "      <th>8</th>\n",
       "      <td>429240.94</td>\n",
       "      <td>11.32</td>\n",
       "      <td>16.41</td>\n",
       "    </tr>\n",
       "  </tbody>\n",
       "</table>\n",
       "</div>"
      ],
      "text/plain": [
       "   Throughput    p50    p99\n",
       "0    39221.49   5.09   5.82\n",
       "1    78429.47   5.08   6.06\n",
       "2   117700.88   5.07   6.58\n",
       "3   156527.89   5.08   6.89\n",
       "4   195044.83   5.09   7.03\n",
       "5   343117.06   5.76   8.19\n",
       "6   421932.39   6.99   9.97\n",
       "7   419739.19   9.40  12.81\n",
       "8   429240.94  11.32  16.41"
      ]
     },
     "execution_count": 17,
     "metadata": {},
     "output_type": "execute_result"
    }
   ],
   "source": [
    "filename = \"../EPaxos.csv\"\n",
    "epaxos_data = pd.read_csv(filename,header=0,index_col=None)\n",
    "x_e = (epaxos_data[epaxos_data.columns[0]]/1000).tolist()\n",
    "y_e_m = epaxos_data[epaxos_data.columns[1]].tolist()\n",
    "y_e_99 = epaxos_data[epaxos_data.columns[2]].tolist()\n",
    "epaxos_data"
   ]
  },
  {
   "cell_type": "code",
   "execution_count": 18,
   "id": "0a074997",
   "metadata": {},
   "outputs": [
    {
     "data": {
      "image/png": "[encoded data removed]",
      "text/plain": [
       "<Figure size 864x576 with 1 Axes>"
      ]
     },
     "metadata": {
      "needs_background": "light"
     },
     "output_type": "display_data"
    }
   ],
   "source": [
    "import matplotlib.pyplot as plt\n",
    "fig=plt.figure(figsize=(12,8))\n",
    "plt.plot(x_e,y_e_m,color='#1f77b4',marker='s',linewidth=4,markersize=8)\n",
    "plt.plot(x_r,y_r_m,color='#2ca02c',marker='o',linewidth=4,markersize=8)\n",
    "plt.plot(x_p,y_p_m,color='#ff7f0e',marker='^',linewidth=4,markersize=8)\n",
    "\n",
    "plt.title('Median Latency',fontsize=18)\n",
    "plt.xlabel('Throughout(x 1k reqs/sec)',fontsize=14)\n",
    "plt.xticks(fontsize=12)\n",
    "plt.xticks(range(0, 551, 50)) \n",
    "plt.ylabel('Median Latency (ms)',fontsize=14)\n",
    "plt.grid(True)\n",
    "plt.ylim(0)\n",
    "plt.legend([\"EPaxos\", \"Rabia\", \"Paxos\"])\n",
    "\n",
    "plt.savefig('Median Latency.png')\n",
    "plt.show()"
   ]
  },
  {
   "cell_type": "code",
   "execution_count": 19,
   "id": "d0df238a",
   "metadata": {},
   "outputs": [
    {
     "data": {
      "image/png": "[encoded data removed]",
      "text/plain": [
       "<Figure size 864x576 with 1 Axes>"
      ]
     },
     "metadata": {
      "needs_background": "light"
     },
     "output_type": "display_data"
    }
   ],
   "source": [
    "import matplotlib.pyplot as plt\n",
    "fig=plt.figure(figsize=(12,8))\n",
    "plt.plot(x_e,y_e_99, color='#1f77b4', marker='s', linewidth=4, markersize=8)\n",
    "plt.plot(x_r,y_r_99, color='#2ca02c', marker='o', linewidth=4, markersize=8)\n",
    "plt.plot(x_p,y_p_99, color='#ff7f0e', marker='^', linewidth=4, markersize=8)\n",
    "\n",
    "plt.title('99th Percentile Latency', fontsize=18)\n",
    "plt.xlabel('Throughout(x 1k reqs/sec)', fontsize=14)\n",
    "plt.xticks(fontsize=12)\n",
    "plt.xticks(range(0, 551, 50)) \n",
    "plt.ylabel('99% Latency (ms)', fontsize=14)\n",
    "plt.grid(True)\n",
    "plt.ylim(0)\n",
    "plt.legend([\"EPaxos\", \"Rabia\", \"Paxos\"])\n",
    "\n",
    "plt.savefig('99th Percentile Latency.png')\n",
    "plt.show()"
   ]
  },
  {
   "cell_type": "code",
   "execution_count": null,
   "id": "e29fc599",
   "metadata": {},
   "outputs": [],
   "source": []
  }
 ],
 "metadata": {
  "kernelspec": {
   "display_name": "Python 3 (ipykernel)",
   "language": "python",
   "name": "python3"
  },
  "language_info": {
   "codemirror_mode": {
    "name": "ipython",
    "version": 3
   },
   "file_extension": ".py",
   "mimetype": "text/x-python",
   "name": "python",
   "nbconvert_exporter": "python",
   "pygments_lexer": "ipython3",
   "version": "3.10.12"
  }
 },
 "nbformat": 4,
 "nbformat_minor": 5
}
